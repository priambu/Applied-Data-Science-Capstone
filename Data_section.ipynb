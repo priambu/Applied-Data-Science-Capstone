{
 "cells": [
  {
   "cell_type": "markdown",
   "metadata": {},
   "source": [
    "# Restaurant recommender system in Bangalore"
   ]
  },
  {
   "cell_type": "markdown",
   "metadata": {},
   "source": [
    "### Data requirements:"
   ]
  },
  {
   "cell_type": "markdown",
   "metadata": {},
   "source": [
    "To find a solution to the questions and build a recommender model, we need data and lots of data. Data can answer question which are unimaginable and non-answerable by humans because humans do not have the tendency to analyses such large dataset and produce analytics to find a solutions.\n",
    "Let's consider the base scenario:\n",
    "Suppose I want to find a restaurant, then logically, I need 3 things:\n",
    "1.\tIts geographical coordinates (latitude and longitude) to find out where exactly it is located.\n",
    "2.\tPopulation of the neighborhood where the restaurant is located.\n",
    "3.\tAverage income of neighborhood to know how much the restaurant is worth.\n",
    "Let’s take a closer look at each of these:\n",
    "1.\tTo access location of a restaurant, its Latitude and Longitude is to be known so that we can point at its coordinates and create a map displaying all the restaurants with its labels respectively.\n",
    "2.\tPopulation of a neighborhood is very important factor in determining a restaurant's growth and number of customers who turn up to eat. Logically, the more the population of a neighborhood, the more people will be interested to walk openly into a restaurant and less the population, a smaller number of people frequently visit a restaurant. Also, if more people visit, better the restaurant is rated because it is accessed by different people with different taste. Hence is very important factor.\n",
    "3.\tIncome of a neighborhood is also very important factor as population was. Income is directly proportional to richness of a neighborhood. If people in a neighborhood earns more than an average income, then it is very much possible that they will spend more however not always true with very less probability. So, a restaurant assessment is proportional to income of a neighborhood.\n"
   ]
  },
  {
   "cell_type": "markdown",
   "metadata": {},
   "source": [
    "### Data collection:"
   ]
  },
  {
   "cell_type": "markdown",
   "metadata": {},
   "source": [
    "1.\tCollecting geographical coordinates is not difficult but after googling for more than 2 days, it was not available on open source data websites such as Wikipedia, India gov website, census report websites etc. So, I decided to use Google maps API to fetch latitude and longitude but google API has limited number of calls that i could make with my free account. So, it would take around 15 - 20 days to fetch location of all the neighborhoods in Bangalore. Initially I scrapped list of neighbors’ using beautifulSoup4 from Wikipedia. The table headings becoming the boroughs and data becoming the neighborhoods. Bangalore has 8 boroughs and 64 neighborhoods. So, I manually googled each neighborhood to find its corresponding latitude and longitude. After doing so, I produced the following dataframe.\n",
    " \n"
   ]
  },
  {
   "cell_type": "markdown",
   "metadata": {},
   "source": [
    "![](first.png)"
   ]
  },
  {
   "cell_type": "markdown",
   "metadata": {},
   "source": [
    "2.\tPopulation by neighborhood is again easy to find out given that its readily available. But in case of Bangalore, it is again not the case. I was able to find population data for few cities. Here is the link. Rest other neighborhood population is assumed and may be inaccurate but since this is a demonstrating project, the main idea to get the working model. The dataframe for Bangalore neighborhood population looks like:"
   ]
  },
  {
   "cell_type": "markdown",
   "metadata": {},
   "source": [
    "![](second.jpg)"
   ]
  },
  {
   "cell_type": "markdown",
   "metadata": {},
   "source": [
    "3.\tIncome by neighborhood is again easy to find out given that its readily available. But in case of Bangalore, it is again not the case. i was able to find Income data for main city. Here is the link. Neighborhood Income is assumed and may be inaccurate but since this is a demonstrating project, the main idea to get the working model. The dataframe for Bangalore neighborhood population looks like :"
   ]
  },
  {
   "cell_type": "markdown",
   "metadata": {},
   "source": [
    "![](third.jpg)"
   ]
  },
  {
   "cell_type": "markdown",
   "metadata": {},
   "source": [
    "4.\tFourSquare API :\n",
    "Use of foursquare is focused to fetch nearest venue locations so that we can use them to form a cluster. Foursquare api leverages the power of finding nearest venues in a radius (in my case : 500mts) and also corresponding coordinates, venue location and names. After calling, the following dataframe is created:"
   ]
  },
  {
   "cell_type": "markdown",
   "metadata": {},
   "source": [
    "![](fourth.jpg)"
   ]
  },
  {
   "cell_type": "markdown",
   "metadata": {},
   "source": [
    "The following map is produced by marking all the neighborhoods in Bangalore city"
   ]
  },
  {
   "cell_type": "markdown",
   "metadata": {},
   "source": [
    "![](fifth.jpg)"
   ]
  },
   {
   "cell_type": "code",
   "execution_count": null,
   "metadata": {},
   "outputs": [],
   "source": []
  }
 ],
 "metadata": {
  "kernelspec": {
   "display_name": "Python 3",
   "language": "python",
   "name": "python3"
  },
  "language_info": {
   "codemirror_mode": {
    "name": "ipython",
    "version": 3
   },
   "file_extension": ".py",
   "mimetype": "text/x-python",
   "name": "python",
   "nbconvert_exporter": "python",
   "pygments_lexer": "ipython3",
   "version": "3.6.8"
  }
 },
 "nbformat": 4,
 "nbformat_minor": 2
}
